{
 "cells": [
  {
   "cell_type": "markdown",
   "metadata": {},
   "source": [
    "# Example of using R Markdown with jupyter notebook: An eye movement analysis of sentence reading \n",
    "\n",
    "## Abstract \n",
    "Mild reading difficulties are a pervasive symptom of aphasia, a language impairment common post stroke. In this study, we used eye tracking to investigate sentence reading by one person diagnosed with aphasia (PWA), compared to a neurologically healthy participant (NHI). Data were extracted from a larger project on sentence reading (published in Aphasiology online). The main aim of this study was to find out whether the eye movements of these two readers are influenced by linguistic factors of word frequency and contextual predictability. The two participants read sentences including target words that varied in word frequency and contextual predictability, and answered comprehension questions. We recorded gaze duration, total fixation duration, and first-pass regressions. Results demonstrated that the PWA had prolonged gaze and total fixation duratations and an increase of first-pass regressions compared to the NHI. Both readers were influenced by word frequency and predictability, but in different ways. Readers varied in gaze duration and first-pass regressions in particular, which may point to differences in the phase of lexical access.\n",
    "\n"
   ]
  },
  {
   "cell_type": "markdown",
   "metadata": {},
   "source": [
    "## Load libraries"
   ]
  },
  {
   "cell_type": "code",
   "execution_count": 177,
   "metadata": {
    "collapsed": false
   },
   "outputs": [],
   "source": [
    "library(gdata) # used\n",
    "library(psych)\n",
    "library(compute.es)\n",
    "library(ggplot2) # used\n",
    "library(multcomp)\n",
    "library(pastecs) # used\n",
    "library(ez)\n",
    "library(Hmisc)\n",
    "library(reshape) # used\n",
    "library(gridExtra) #used\n",
    "library(lme4) #used\n",
    "library(lmerTest) #used"
   ]
  },
  {
   "cell_type": "code",
   "execution_count": 178,
   "metadata": {
    "collapsed": false
   },
   "outputs": [],
   "source": [
    "#set working directory\n",
    "setwd(\"~/code/juypternotebooks\")"
   ]
  },
  {
   "cell_type": "markdown",
   "metadata": {},
   "source": [
    "## We are going to load data of the two participants from the reading study.\n",
    "### Open database:"
   ]
  },
  {
   "cell_type": "code",
   "execution_count": 179,
   "metadata": {
    "collapsed": false
   },
   "outputs": [],
   "source": [
    "rawdata=read.xls(\"EMdataexample.xlsx\", \n",
    "                 na.strings = c(\"zero\"),\n",
    "                 colClasses = c(\n",
    "                   'factor',  # RECORDING_SESSION_LABEL\n",
    "                   'factor',  # GROUP\n",
    "                   'factor',  # ID_OVERALL\n",
    "                   'factor',  # ID\n",
    "                   'factor',  # TRIAL_INDEX\n",
    "                   'factor',  # trial_type\n",
    "                   'factor',  # FREQUENCY\n",
    "                   'factor',  # PREDICTABILITY\n",
    "                   'factor',  # SENTENCE\n",
    "                   'factor',  # ITEM\n",
    "                   'factor',  # QUESTION\n",
    "                   'factor',  # CRITICAL_WORD\n",
    "                   'factor',  # ACCURACY   \n",
    "                   'character', # SINGLE_FIXATION_DURATION\n",
    "                   'character', # FIRST_FIXATION_DURATION\n",
    "                   'character', # GAZE_DURATION\n",
    "                   'character', # RIGHT_BOUNDED_DURATION\n",
    "                   'character', # REGRESSION_PATH_DURATION\n",
    "                   'character', # REREADING_DURATION\n",
    "                   'character', # TOTAL_DURATION\n",
    "                   'character',  # FIRST_PASS_REGRESSION\n",
    "                   'character',  # FIRST_PASS_FIXATION\n",
    "                   'factor',  # FIRST_PASS_MULTI_FIXATION \n",
    "                   'character' #trials.fixated\n",
    "                 )\n",
    ")\n",
    "\n"
   ]
  },
  {
   "cell_type": "code",
   "execution_count": 180,
   "metadata": {
    "collapsed": true
   },
   "outputs": [],
   "source": [
    "# rawdata"
   ]
  },
  {
   "cell_type": "code",
   "execution_count": 181,
   "metadata": {
    "collapsed": true
   },
   "outputs": [],
   "source": [
    "## Create a new dataframe for analysis"
   ]
  },
  {
   "cell_type": "code",
   "execution_count": 182,
   "metadata": {
    "collapsed": true
   },
   "outputs": [],
   "source": [
    "data <-rawdata"
   ]
  },
  {
   "cell_type": "markdown",
   "metadata": {},
   "source": [
    "## Explore the data"
   ]
  },
  {
   "cell_type": "code",
   "execution_count": 183,
   "metadata": {
    "collapsed": false
   },
   "outputs": [
    {
     "name": "stdout",
     "output_type": "stream",
     "text": [
      "'data.frame':\t112 obs. of  25 variables:\n",
      " $ RECORDING_SESSION_LABEL  : Factor w/ 4 levels \"c_11_a\",\"c_11_b\",..: 1 1 1 1 1 1 1 1 1 1 ...\n",
      " $ GROUP                    : Factor w/ 2 levels \"NHI\",\"PWA\": 1 1 1 1 1 1 1 1 1 1 ...\n",
      " $ ID_OVERALL               : Factor w/ 2 levels \"1\",\"21\": 1 1 1 1 1 1 1 1 1 1 ...\n",
      " $ ID                       : Factor w/ 1 level \"1\": 1 1 1 1 1 1 1 1 1 1 ...\n",
      " $ TRIAL_INDEX              : Factor w/ 28 levels \"1\",\"10\",\"11\",..: 1 12 22 23 24 25 26 27 28 2 ...\n",
      " $ TRIAL_TYPE               : Factor w/ 4 levels \"Experimental WP HF P\",..: 4 2 3 2 4 2 3 1 2 1 ...\n",
      " $ FREQUENCY                : Factor w/ 2 levels \"high frequency\",..: 2 1 2 1 2 1 2 1 1 1 ...\n",
      " $ PREDICTABILITY           : Factor w/ 2 levels \"predictable\",..: 2 2 1 2 2 2 1 1 2 1 ...\n",
      " $ SENTENCE                 : Factor w/ 56 levels \"After a long day at work she forgot her keys and had to go back to the casino to get them.\",..: 7 55 18 19 47 46 31 12 6 39 ...\n",
      " $ ITEM                     : Factor w/ 28 levels \"bank\",\"brewery\",..: 3 22 12 1 17 18 11 25 20 27 ...\n",
      " $ QUESTION.                : Factor w/ 28 levels \"Are the backpackers staying in a hostel?\",..: 8 19 27 10 2 1 14 26 24 17 ...\n",
      " $ CRITICAL_WORD            : Factor w/ 11 levels \"10\",\"11\",\"12\",..: 10 2 8 9 11 10 3 6 3 8 ...\n",
      " $ ACCURACY                 : Factor w/ 2 levels \"correct\",\"incorrect\": 1 1 1 1 1 1 1 1 1 1 ...\n",
      " $ SINGLE_FIXATION_DURATION : chr  \"315\" \"153\" \"143\" \"385\" ...\n",
      " $ FIRST_FIXATION_DURATION  : chr  \"315\" \"153\" \"143\" \"385\" ...\n",
      " $ GAZE_DURATION            : chr  \"315\" \"153\" \"143\" \"385\" ...\n",
      " $ RIGHT_BOUNDED_DURATION   : chr  \"315\" \"153\" \"143\" \"385\" ...\n",
      " $ REGRESSION_PATH_DURATION : chr  \"315\" \"636\" \"143\" \"385\" ...\n",
      " $ REREADING_DURATION       : chr  \"0\" \"483\" \"0\" \"0\" ...\n",
      " $ TOTAL_DURATION           : chr  \"546\" \"153\" \"316\" \"385\" ...\n",
      " $ FIRST_PASS_REGRESSION    : chr  \"0\" \"1\" \"0\" \"0\" ...\n",
      " $ FIRST_PAST_FIXATION      : chr  \"1\" \"1\" \"1\" \"1\" ...\n",
      " $ FIRST_PASS_MULTI_FIXATION: Factor w/ 3 levels \".\",\"0\",\"1\": 2 2 2 2 3 3 2 2 1 2 ...\n",
      " $ trials.fixated           : chr  \"1\" \"1\" \"1\" \"1\" ...\n",
      " $ BLINK                    : Factor w/ 1 level \"no\": 1 1 1 1 1 1 1 1 1 1 ...\n"
     ]
    },
    {
     "data": {
      "text/plain": [
       " RECORDING_SESSION_LABEL GROUP    ID_OVERALL ID       TRIAL_INDEX\n",
       " c_11_a :28              NHI:56   1 :56      1:112   1      : 4  \n",
       " c_11_b :28              PWA:56   21:56              10     : 4  \n",
       " pwa_1_a:28                                          11     : 4  \n",
       " pwa_1_b:28                                          12     : 4  \n",
       "                                                     13     : 4  \n",
       "                                                     14     : 4  \n",
       "                                                     (Other):88  \n",
       "                TRIAL_TYPE          FREQUENCY        PREDICTABILITY\n",
       " Experimental WP HF P:28   high frequency:56   predictable  :56    \n",
       " Experimental WP HF U:28   low frequency :56   unpredictable:56    \n",
       " Experimental WP LF P:28                                           \n",
       " Experimental WP LF U:28                                           \n",
       "                                                                   \n",
       "                                                                   \n",
       "                                                                   \n",
       "                                                                                       SENTENCE  \n",
       " After a long day at work she forgot her keys and had to go back to the casino to get them.:  2  \n",
       " After a long day at work she forgot her keys and had to go back to the office to get them.:  2  \n",
       " After a long day the children were hungry for dinner, which was their favourite.          :  2  \n",
       " After a long day the children were hungry for spinach, which was their favourite.         :  2  \n",
       " After a long day the gambler went to play in the casino near his home.                    :  2  \n",
       " After a long day the gambler went to play in the office near his home.                    :  2  \n",
       " (Other)                                                                                   :100  \n",
       "       ITEM                                            QUESTION.  CRITICAL_WORD\n",
       " bank    : 4   Are the backpackers staying in a hostel?     : 4   12     :24   \n",
       " brewery : 4   Are the couple saving to buy a house?        : 4   10     :16   \n",
       " campsite: 4   Did James want to know how rocks were formed?: 4   8      :16   \n",
       " casino  : 4   Did she forget her keys?                     : 4   6      :12   \n",
       " chapter : 4   Did the friends forget their tents?          : 4   9      :12   \n",
       " child   : 4   Did the man buy a bottle of water?           : 4   11     : 8   \n",
       " (Other) :88   (Other)                                      :88   (Other):24   \n",
       "      ACCURACY   SINGLE_FIXATION_DURATION FIRST_FIXATION_DURATION\n",
       " correct  :106   Length:112               Length:112             \n",
       " incorrect:  6   Class :character         Class :character       \n",
       "                 Mode  :character         Mode  :character       \n",
       "                                                                 \n",
       "                                                                 \n",
       "                                                                 \n",
       "                                                                 \n",
       " GAZE_DURATION      RIGHT_BOUNDED_DURATION REGRESSION_PATH_DURATION\n",
       " Length:112         Length:112             Length:112              \n",
       " Class :character   Class :character       Class :character        \n",
       " Mode  :character   Mode  :character       Mode  :character        \n",
       "                                                                   \n",
       "                                                                   \n",
       "                                                                   \n",
       "                                                                   \n",
       " REREADING_DURATION TOTAL_DURATION     FIRST_PASS_REGRESSION\n",
       " Length:112         Length:112         Length:112           \n",
       " Class :character   Class :character   Class :character     \n",
       " Mode  :character   Mode  :character   Mode  :character     \n",
       "                                                            \n",
       "                                                            \n",
       "                                                            \n",
       "                                                            \n",
       " FIRST_PAST_FIXATION FIRST_PASS_MULTI_FIXATION trials.fixated     BLINK   \n",
       " Length:112          .:26                      Length:112         no:112  \n",
       " Class :character    0:63                      Class :character           \n",
       " Mode  :character    1:23                      Mode  :character           \n",
       "                                                                          \n",
       "                                                                          \n",
       "                                                                          \n",
       "                                                                          "
      ]
     },
     "metadata": {},
     "output_type": "display_data"
    },
    {
     "data": {
      "text/html": [
       "<table>\n",
       "<thead><tr><th scope=col>RECORDING_SESSION_LABEL</th><th scope=col>GROUP</th><th scope=col>ID_OVERALL</th><th scope=col>ID</th><th scope=col>TRIAL_INDEX</th><th scope=col>TRIAL_TYPE</th><th scope=col>FREQUENCY</th><th scope=col>PREDICTABILITY</th><th scope=col>SENTENCE</th><th scope=col>ITEM</th></tr></thead>\n",
       "<tbody>\n",
       "\t<tr><td>c_11_a                                                                   </td><td>NHI                                                                      </td><td>1                                                                        </td><td>1                                                                        </td><td>1                                                                        </td><td>Experimental WP LF U                                                     </td><td>low frequency                                                            </td><td>unpredictable                                                            </td><td>After the accident they rushed to the campsite to get the injury cleaned.</td><td>campsite                                                                 </td></tr>\n",
       "\t<tr><td>c_11_a                                                                   </td><td>NHI                                                                      </td><td>1                                                                        </td><td>1                                                                        </td><td>2                                                                        </td><td>Experimental WP HF U                                                     </td><td>high frequency                                                           </td><td>unpredictable                                                            </td><td>William needs a custom made suit and goes to the school to get one.      </td><td>school                                                                   </td></tr>\n",
       "\t<tr><td>c_11_a                                                                   </td><td>NHI                                                                      </td><td>1                                                                        </td><td>1                                                                        </td><td>3                                                                        </td><td>Experimental WP LF P                                                     </td><td>low frequency                                                            </td><td>predictable                                                              </td><td>Captain Scott was an Antarctic explorer who was not afraid of challenges.</td><td>explorer                                                                 </td></tr>\n",
       "\t<tr><td>c_11_a                                                                   </td><td>NHI                                                                      </td><td>1                                                                        </td><td>1                                                                        </td><td>4                                                                        </td><td>Experimental WP HF U                                                     </td><td>high frequency                                                           </td><td>unpredictable                                                            </td><td>Carla keeps her jewellery in a bank when she goes on holidays.           </td><td>bank                                                                     </td></tr>\n",
       "\t<tr><td>c_11_a                                                                   </td><td>NHI                                                                      </td><td>1                                                                        </td><td>1                                                                        </td><td>5                                                                        </td><td>Experimental WP LF U                                                     </td><td>low frequency                                                            </td><td>unpredictable                                                            </td><td>The young couple are saving to buy a hostel to refurbish.                </td><td>hostel                                                                   </td></tr>\n",
       "\t<tr><td>c_11_a                                                                   </td><td>NHI                                                                      </td><td>1                                                                        </td><td>1                                                                        </td><td>6                                                                        </td><td>Experimental WP HF U                                                     </td><td>high frequency                                                           </td><td>unpredictable                                                            </td><td>The poor backpackers are staying in a house in New York.                 </td><td>house                                                                    </td></tr>\n",
       "</tbody>\n",
       "</table>\n"
      ],
      "text/latex": [
       "\\begin{tabular}{r|llllllllll}\n",
       " RECORDING\\_SESSION\\_LABEL & GROUP & ID\\_OVERALL & ID & TRIAL\\_INDEX & TRIAL\\_TYPE & FREQUENCY & PREDICTABILITY & SENTENCE & ITEM\\\\\n",
       "\\hline\n",
       "\t c\\_11\\_a                                                                & NHI                                                                       & 1                                                                         & 1                                                                         & 1                                                                         & Experimental WP LF U                                                      & low frequency                                                             & unpredictable                                                             & After the accident they rushed to the campsite to get the injury cleaned. & campsite                                                                 \\\\\n",
       "\t c\\_11\\_a                                                                & NHI                                                                       & 1                                                                         & 1                                                                         & 2                                                                         & Experimental WP HF U                                                      & high frequency                                                            & unpredictable                                                             & William needs a custom made suit and goes to the school to get one.       & school                                                                   \\\\\n",
       "\t c\\_11\\_a                                                                & NHI                                                                       & 1                                                                         & 1                                                                         & 3                                                                         & Experimental WP LF P                                                      & low frequency                                                             & predictable                                                               & Captain Scott was an Antarctic explorer who was not afraid of challenges. & explorer                                                                 \\\\\n",
       "\t c\\_11\\_a                                                                & NHI                                                                       & 1                                                                         & 1                                                                         & 4                                                                         & Experimental WP HF U                                                      & high frequency                                                            & unpredictable                                                             & Carla keeps her jewellery in a bank when she goes on holidays.            & bank                                                                     \\\\\n",
       "\t c\\_11\\_a                                                                & NHI                                                                       & 1                                                                         & 1                                                                         & 5                                                                         & Experimental WP LF U                                                      & low frequency                                                             & unpredictable                                                             & The young couple are saving to buy a hostel to refurbish.                 & hostel                                                                   \\\\\n",
       "\t c\\_11\\_a                                                                & NHI                                                                       & 1                                                                         & 1                                                                         & 6                                                                         & Experimental WP HF U                                                      & high frequency                                                            & unpredictable                                                             & The poor backpackers are staying in a house in New York.                  & house                                                                    \\\\\n",
       "\\end{tabular}\n"
      ],
      "text/markdown": [
       "\n",
       "RECORDING_SESSION_LABEL | GROUP | ID_OVERALL | ID | TRIAL_INDEX | TRIAL_TYPE | FREQUENCY | PREDICTABILITY | SENTENCE | ITEM | \n",
       "|---|---|---|---|---|---|\n",
       "| c_11_a                                                                    | NHI                                                                       | 1                                                                         | 1                                                                         | 1                                                                         | Experimental WP LF U                                                      | low frequency                                                             | unpredictable                                                             | After the accident they rushed to the campsite to get the injury cleaned. | campsite                                                                  | \n",
       "| c_11_a                                                                    | NHI                                                                       | 1                                                                         | 1                                                                         | 2                                                                         | Experimental WP HF U                                                      | high frequency                                                            | unpredictable                                                             | William needs a custom made suit and goes to the school to get one.       | school                                                                    | \n",
       "| c_11_a                                                                    | NHI                                                                       | 1                                                                         | 1                                                                         | 3                                                                         | Experimental WP LF P                                                      | low frequency                                                             | predictable                                                               | Captain Scott was an Antarctic explorer who was not afraid of challenges. | explorer                                                                  | \n",
       "| c_11_a                                                                    | NHI                                                                       | 1                                                                         | 1                                                                         | 4                                                                         | Experimental WP HF U                                                      | high frequency                                                            | unpredictable                                                             | Carla keeps her jewellery in a bank when she goes on holidays.            | bank                                                                      | \n",
       "| c_11_a                                                                    | NHI                                                                       | 1                                                                         | 1                                                                         | 5                                                                         | Experimental WP LF U                                                      | low frequency                                                             | unpredictable                                                             | The young couple are saving to buy a hostel to refurbish.                 | hostel                                                                    | \n",
       "| c_11_a                                                                    | NHI                                                                       | 1                                                                         | 1                                                                         | 6                                                                         | Experimental WP HF U                                                      | high frequency                                                            | unpredictable                                                             | The poor backpackers are staying in a house in New York.                  | house                                                                     | \n",
       "\n",
       "\n"
      ],
      "text/plain": [
       "  RECORDING_SESSION_LABEL GROUP ID_OVERALL ID TRIAL_INDEX TRIAL_TYPE          \n",
       "1 c_11_a                  NHI   1          1  1           Experimental WP LF U\n",
       "2 c_11_a                  NHI   1          1  2           Experimental WP HF U\n",
       "3 c_11_a                  NHI   1          1  3           Experimental WP LF P\n",
       "4 c_11_a                  NHI   1          1  4           Experimental WP HF U\n",
       "5 c_11_a                  NHI   1          1  5           Experimental WP LF U\n",
       "6 c_11_a                  NHI   1          1  6           Experimental WP HF U\n",
       "  FREQUENCY      PREDICTABILITY\n",
       "1 low frequency  unpredictable \n",
       "2 high frequency unpredictable \n",
       "3 low frequency  predictable   \n",
       "4 high frequency unpredictable \n",
       "5 low frequency  unpredictable \n",
       "6 high frequency unpredictable \n",
       "  SENTENCE                                                                 \n",
       "1 After the accident they rushed to the campsite to get the injury cleaned.\n",
       "2 William needs a custom made suit and goes to the school to get one.      \n",
       "3 Captain Scott was an Antarctic explorer who was not afraid of challenges.\n",
       "4 Carla keeps her jewellery in a bank when she goes on holidays.           \n",
       "5 The young couple are saving to buy a hostel to refurbish.                \n",
       "6 The poor backpackers are staying in a house in New York.                 \n",
       "  ITEM    \n",
       "1 campsite\n",
       "2 school  \n",
       "3 explorer\n",
       "4 bank    \n",
       "5 hostel  \n",
       "6 house   "
      ]
     },
     "metadata": {},
     "output_type": "display_data"
    },
    {
     "data": {
      "text/html": [
       "<table>\n",
       "<thead><tr><th></th><th scope=col>RECORDING_SESSION_LABEL</th><th scope=col>GROUP</th><th scope=col>ID_OVERALL</th><th scope=col>ID</th><th scope=col>TRIAL_INDEX</th><th scope=col>TRIAL_TYPE</th><th scope=col>FREQUENCY</th><th scope=col>PREDICTABILITY</th><th scope=col>SENTENCE</th><th scope=col>ITEM</th></tr></thead>\n",
       "<tbody>\n",
       "\t<tr><th scope=row>107</th><td>pwa_1_b                                                                                      </td><td>PWA                                                                                          </td><td>21                                                                                           </td><td>1                                                                                            </td><td>23                                                                                           </td><td>Experimental WP LF U                                                                         </td><td>low frequency                                                                                </td><td>unpredictable                                                                                </td><td>Before she goes to bed her mum reads her a short email written by her father.                </td><td>email                                                                                        </td></tr>\n",
       "\t<tr><th scope=row>108</th><td>pwa_1_b                                                                                      </td><td>PWA                                                                                          </td><td>21                                                                                           </td><td>1                                                                                            </td><td>24                                                                                           </td><td>Experimental WP LF U                                                                         </td><td>low frequency                                                                                </td><td>unpredictable                                                                                </td><td>Ryan loves old castles and is interested in their geology and tales.                         </td><td>geology                                                                                      </td></tr>\n",
       "\t<tr><th scope=row>109</th><td>pwa_1_b                                                                                      </td><td>PWA                                                                                          </td><td>21                                                                                           </td><td>1                                                                                            </td><td>25                                                                                           </td><td>Experimental WP HF U                                                                         </td><td>high frequency                                                                               </td><td>unpredictable                                                                                </td><td>Lisa does not like letters, but prefers to write a quick story to tell others about her news.</td><td>story                                                                                        </td></tr>\n",
       "\t<tr><th scope=row>110</th><td>pwa_1_b                                                                                      </td><td>PWA                                                                                          </td><td>21                                                                                           </td><td>1                                                                                            </td><td>26                                                                                           </td><td>Experimental WP HF U                                                                         </td><td>high frequency                                                                               </td><td>unpredictable                                                                                </td><td>At the distillery in Scotland the man bought a bottle of water to take home.                 </td><td>water                                                                                        </td></tr>\n",
       "\t<tr><th scope=row>111</th><td>pwa_1_b                                                                                      </td><td>PWA                                                                                          </td><td>21                                                                                           </td><td>1                                                                                            </td><td>27                                                                                           </td><td>Experimental WP LF U                                                                         </td><td>low frequency                                                                                </td><td>unpredictable                                                                                </td><td>Anna was able to get a reduced ticket for the show because she is a florist working there.   </td><td>florist                                                                                      </td></tr>\n",
       "\t<tr><th scope=row>112</th><td>pwa_1_b                                                                                      </td><td>PWA                                                                                          </td><td>21                                                                                           </td><td>1                                                                                            </td><td>28                                                                                           </td><td>Experimental WP HF P                                                                         </td><td>high frequency                                                                               </td><td>predictable                                                                                  </td><td>The young couple are saving to buy a house to refurbish.                                     </td><td>house                                                                                        </td></tr>\n",
       "</tbody>\n",
       "</table>\n"
      ],
      "text/latex": [
       "\\begin{tabular}{r|llllllllll}\n",
       "  & RECORDING\\_SESSION\\_LABEL & GROUP & ID\\_OVERALL & ID & TRIAL\\_INDEX & TRIAL\\_TYPE & FREQUENCY & PREDICTABILITY & SENTENCE & ITEM\\\\\n",
       "\\hline\n",
       "\t107 & pwa\\_1\\_b                                                                                   & PWA                                                                                           & 21                                                                                            & 1                                                                                             & 23                                                                                            & Experimental WP LF U                                                                          & low frequency                                                                                 & unpredictable                                                                                 & Before she goes to bed her mum reads her a short email written by her father.                 & email                                                                                        \\\\\n",
       "\t108 & pwa\\_1\\_b                                                                                   & PWA                                                                                           & 21                                                                                            & 1                                                                                             & 24                                                                                            & Experimental WP LF U                                                                          & low frequency                                                                                 & unpredictable                                                                                 & Ryan loves old castles and is interested in their geology and tales.                          & geology                                                                                      \\\\\n",
       "\t109 & pwa\\_1\\_b                                                                                   & PWA                                                                                           & 21                                                                                            & 1                                                                                             & 25                                                                                            & Experimental WP HF U                                                                          & high frequency                                                                                & unpredictable                                                                                 & Lisa does not like letters, but prefers to write a quick story to tell others about her news. & story                                                                                        \\\\\n",
       "\t110 & pwa\\_1\\_b                                                                                   & PWA                                                                                           & 21                                                                                            & 1                                                                                             & 26                                                                                            & Experimental WP HF U                                                                          & high frequency                                                                                & unpredictable                                                                                 & At the distillery in Scotland the man bought a bottle of water to take home.                  & water                                                                                        \\\\\n",
       "\t111 & pwa\\_1\\_b                                                                                   & PWA                                                                                           & 21                                                                                            & 1                                                                                             & 27                                                                                            & Experimental WP LF U                                                                          & low frequency                                                                                 & unpredictable                                                                                 & Anna was able to get a reduced ticket for the show because she is a florist working there.    & florist                                                                                      \\\\\n",
       "\t112 & pwa\\_1\\_b                                                                                   & PWA                                                                                           & 21                                                                                            & 1                                                                                             & 28                                                                                            & Experimental WP HF P                                                                          & high frequency                                                                                & predictable                                                                                   & The young couple are saving to buy a house to refurbish.                                      & house                                                                                        \\\\\n",
       "\\end{tabular}\n"
      ],
      "text/markdown": [
       "\n",
       "| <!--/--> | RECORDING_SESSION_LABEL | GROUP | ID_OVERALL | ID | TRIAL_INDEX | TRIAL_TYPE | FREQUENCY | PREDICTABILITY | SENTENCE | ITEM | \n",
       "|---|---|---|---|---|---|\n",
       "| 107 | pwa_1_b                                                                                       | PWA                                                                                           | 21                                                                                            | 1                                                                                             | 23                                                                                            | Experimental WP LF U                                                                          | low frequency                                                                                 | unpredictable                                                                                 | Before she goes to bed her mum reads her a short email written by her father.                 | email                                                                                         | \n",
       "| 108 | pwa_1_b                                                                                       | PWA                                                                                           | 21                                                                                            | 1                                                                                             | 24                                                                                            | Experimental WP LF U                                                                          | low frequency                                                                                 | unpredictable                                                                                 | Ryan loves old castles and is interested in their geology and tales.                          | geology                                                                                       | \n",
       "| 109 | pwa_1_b                                                                                       | PWA                                                                                           | 21                                                                                            | 1                                                                                             | 25                                                                                            | Experimental WP HF U                                                                          | high frequency                                                                                | unpredictable                                                                                 | Lisa does not like letters, but prefers to write a quick story to tell others about her news. | story                                                                                         | \n",
       "| 110 | pwa_1_b                                                                                       | PWA                                                                                           | 21                                                                                            | 1                                                                                             | 26                                                                                            | Experimental WP HF U                                                                          | high frequency                                                                                | unpredictable                                                                                 | At the distillery in Scotland the man bought a bottle of water to take home.                  | water                                                                                         | \n",
       "| 111 | pwa_1_b                                                                                       | PWA                                                                                           | 21                                                                                            | 1                                                                                             | 27                                                                                            | Experimental WP LF U                                                                          | low frequency                                                                                 | unpredictable                                                                                 | Anna was able to get a reduced ticket for the show because she is a florist working there.    | florist                                                                                       | \n",
       "| 112 | pwa_1_b                                                                                       | PWA                                                                                           | 21                                                                                            | 1                                                                                             | 28                                                                                            | Experimental WP HF P                                                                          | high frequency                                                                                | predictable                                                                                   | The young couple are saving to buy a house to refurbish.                                      | house                                                                                         | \n",
       "\n",
       "\n"
      ],
      "text/plain": [
       "    RECORDING_SESSION_LABEL GROUP ID_OVERALL ID TRIAL_INDEX\n",
       "107 pwa_1_b                 PWA   21         1  23         \n",
       "108 pwa_1_b                 PWA   21         1  24         \n",
       "109 pwa_1_b                 PWA   21         1  25         \n",
       "110 pwa_1_b                 PWA   21         1  26         \n",
       "111 pwa_1_b                 PWA   21         1  27         \n",
       "112 pwa_1_b                 PWA   21         1  28         \n",
       "    TRIAL_TYPE           FREQUENCY      PREDICTABILITY\n",
       "107 Experimental WP LF U low frequency  unpredictable \n",
       "108 Experimental WP LF U low frequency  unpredictable \n",
       "109 Experimental WP HF U high frequency unpredictable \n",
       "110 Experimental WP HF U high frequency unpredictable \n",
       "111 Experimental WP LF U low frequency  unpredictable \n",
       "112 Experimental WP HF P high frequency predictable   \n",
       "    SENTENCE                                                                                     \n",
       "107 Before she goes to bed her mum reads her a short email written by her father.                \n",
       "108 Ryan loves old castles and is interested in their geology and tales.                         \n",
       "109 Lisa does not like letters, but prefers to write a quick story to tell others about her news.\n",
       "110 At the distillery in Scotland the man bought a bottle of water to take home.                 \n",
       "111 Anna was able to get a reduced ticket for the show because she is a florist working there.   \n",
       "112 The young couple are saving to buy a house to refurbish.                                     \n",
       "    ITEM   \n",
       "107 email  \n",
       "108 geology\n",
       "109 story  \n",
       "110 water  \n",
       "111 florist\n",
       "112 house  "
      ]
     },
     "metadata": {},
     "output_type": "display_data"
    },
    {
     "data": {
      "text/html": [
       "<ol class=list-inline>\n",
       "\t<li>112</li>\n",
       "\t<li>25</li>\n",
       "</ol>\n"
      ],
      "text/latex": [
       "\\begin{enumerate*}\n",
       "\\item 112\n",
       "\\item 25\n",
       "\\end{enumerate*}\n"
      ],
      "text/markdown": [
       "1. 112\n",
       "2. 25\n",
       "\n",
       "\n"
      ],
      "text/plain": [
       "[1] 112  25"
      ]
     },
     "metadata": {},
     "output_type": "display_data"
    }
   ],
   "source": [
    "str(data)\n",
    "summary(data) \n",
    "head(data[, 1:10])\n",
    "tail(data[, 1:10])\n",
    "dim(data)"
   ]
  },
  {
   "cell_type": "markdown",
   "metadata": {},
   "source": [
    "## Preparing variables we are interested in:\n",
    "### Create variables as numeric\n"
   ]
  },
  {
   "cell_type": "code",
   "execution_count": 184,
   "metadata": {
    "collapsed": false
   },
   "outputs": [
    {
     "name": "stderr",
     "output_type": "stream",
     "text": [
      "Warning message in eval(expr, envir, enclos):\n",
      "“NAs introduced by coercion”"
     ]
    }
   ],
   "source": [
    "data$TOTAL_DURATION  <-as.numeric(data$TOTAL_DURATION)\n",
    "data$GAZE_DURATION  <-as.numeric(data$GAZE_DURATION)\n",
    "data$FIRST_PASS_REGRESSION <-as.numeric(data$FIRST_PASS_REGRESSION)\n"
   ]
  },
  {
   "cell_type": "markdown",
   "metadata": {},
   "source": [
    "### Check whether the data frame inlcudes NAs\n"
   ]
  },
  {
   "cell_type": "code",
   "execution_count": 185,
   "metadata": {
    "collapsed": false
   },
   "outputs": [
    {
     "data": {
      "text/html": [
       "<ol class=list-inline>\n",
       "\t<li>9</li>\n",
       "\t<li>12</li>\n",
       "\t<li>13</li>\n",
       "\t<li>16</li>\n",
       "\t<li>25</li>\n",
       "\t<li>26</li>\n",
       "\t<li>28</li>\n",
       "\t<li>29</li>\n",
       "\t<li>46</li>\n",
       "\t<li>47</li>\n",
       "\t<li>48</li>\n",
       "\t<li>52</li>\n",
       "\t<li>53</li>\n",
       "\t<li>59</li>\n",
       "\t<li>65</li>\n",
       "\t<li>67</li>\n",
       "\t<li>69</li>\n",
       "\t<li>74</li>\n",
       "\t<li>78</li>\n",
       "\t<li>79</li>\n",
       "\t<li>81</li>\n",
       "\t<li>82</li>\n",
       "\t<li>84</li>\n",
       "\t<li>91</li>\n",
       "\t<li>92</li>\n",
       "\t<li>97</li>\n",
       "\t<li>103</li>\n",
       "\t<li>104</li>\n",
       "\t<li>106</li>\n",
       "\t<li>110</li>\n",
       "\t<li>111</li>\n",
       "</ol>\n"
      ],
      "text/latex": [
       "\\begin{enumerate*}\n",
       "\\item 9\n",
       "\\item 12\n",
       "\\item 13\n",
       "\\item 16\n",
       "\\item 25\n",
       "\\item 26\n",
       "\\item 28\n",
       "\\item 29\n",
       "\\item 46\n",
       "\\item 47\n",
       "\\item 48\n",
       "\\item 52\n",
       "\\item 53\n",
       "\\item 59\n",
       "\\item 65\n",
       "\\item 67\n",
       "\\item 69\n",
       "\\item 74\n",
       "\\item 78\n",
       "\\item 79\n",
       "\\item 81\n",
       "\\item 82\n",
       "\\item 84\n",
       "\\item 91\n",
       "\\item 92\n",
       "\\item 97\n",
       "\\item 103\n",
       "\\item 104\n",
       "\\item 106\n",
       "\\item 110\n",
       "\\item 111\n",
       "\\end{enumerate*}\n"
      ],
      "text/markdown": [
       "1. 9\n",
       "2. 12\n",
       "3. 13\n",
       "4. 16\n",
       "5. 25\n",
       "6. 26\n",
       "7. 28\n",
       "8. 29\n",
       "9. 46\n",
       "10. 47\n",
       "11. 48\n",
       "12. 52\n",
       "13. 53\n",
       "14. 59\n",
       "15. 65\n",
       "16. 67\n",
       "17. 69\n",
       "18. 74\n",
       "19. 78\n",
       "20. 79\n",
       "21. 81\n",
       "22. 82\n",
       "23. 84\n",
       "24. 91\n",
       "25. 92\n",
       "26. 97\n",
       "27. 103\n",
       "28. 104\n",
       "29. 106\n",
       "30. 110\n",
       "31. 111\n",
       "\n",
       "\n"
      ],
      "text/plain": [
       " [1]   9  12  13  16  25  26  28  29  46  47  48  52  53  59  65  67  69  74  78\n",
       "[20]  79  81  82  84  91  92  97 103 104 106 110 111"
      ]
     },
     "metadata": {},
     "output_type": "display_data"
    },
    {
     "data": {
      "text/html": [
       "<ol class=list-inline>\n",
       "\t<li>9</li>\n",
       "\t<li>13</li>\n",
       "\t<li>16</li>\n",
       "\t<li>26</li>\n",
       "\t<li>28</li>\n",
       "\t<li>29</li>\n",
       "\t<li>46</li>\n",
       "\t<li>48</li>\n",
       "\t<li>52</li>\n",
       "\t<li>53</li>\n",
       "\t<li>69</li>\n",
       "\t<li>111</li>\n",
       "</ol>\n"
      ],
      "text/latex": [
       "\\begin{enumerate*}\n",
       "\\item 9\n",
       "\\item 13\n",
       "\\item 16\n",
       "\\item 26\n",
       "\\item 28\n",
       "\\item 29\n",
       "\\item 46\n",
       "\\item 48\n",
       "\\item 52\n",
       "\\item 53\n",
       "\\item 69\n",
       "\\item 111\n",
       "\\end{enumerate*}\n"
      ],
      "text/markdown": [
       "1. 9\n",
       "2. 13\n",
       "3. 16\n",
       "4. 26\n",
       "5. 28\n",
       "6. 29\n",
       "7. 46\n",
       "8. 48\n",
       "9. 52\n",
       "10. 53\n",
       "11. 69\n",
       "12. 111\n",
       "\n",
       "\n"
      ],
      "text/plain": [
       " [1]   9  13  16  26  28  29  46  48  52  53  69 111"
      ]
     },
     "metadata": {},
     "output_type": "display_data"
    },
    {
     "data": {
      "text/html": [
       "<ol class=list-inline>\n",
       "\t<li>9</li>\n",
       "\t<li>12</li>\n",
       "\t<li>13</li>\n",
       "\t<li>16</li>\n",
       "\t<li>25</li>\n",
       "\t<li>26</li>\n",
       "\t<li>28</li>\n",
       "\t<li>29</li>\n",
       "\t<li>46</li>\n",
       "\t<li>47</li>\n",
       "\t<li>48</li>\n",
       "\t<li>52</li>\n",
       "\t<li>53</li>\n",
       "\t<li>59</li>\n",
       "\t<li>65</li>\n",
       "\t<li>67</li>\n",
       "\t<li>69</li>\n",
       "\t<li>74</li>\n",
       "\t<li>78</li>\n",
       "\t<li>79</li>\n",
       "\t<li>81</li>\n",
       "\t<li>82</li>\n",
       "\t<li>84</li>\n",
       "\t<li>91</li>\n",
       "\t<li>92</li>\n",
       "\t<li>97</li>\n",
       "\t<li>103</li>\n",
       "\t<li>104</li>\n",
       "\t<li>106</li>\n",
       "\t<li>110</li>\n",
       "\t<li>111</li>\n",
       "</ol>\n"
      ],
      "text/latex": [
       "\\begin{enumerate*}\n",
       "\\item 9\n",
       "\\item 12\n",
       "\\item 13\n",
       "\\item 16\n",
       "\\item 25\n",
       "\\item 26\n",
       "\\item 28\n",
       "\\item 29\n",
       "\\item 46\n",
       "\\item 47\n",
       "\\item 48\n",
       "\\item 52\n",
       "\\item 53\n",
       "\\item 59\n",
       "\\item 65\n",
       "\\item 67\n",
       "\\item 69\n",
       "\\item 74\n",
       "\\item 78\n",
       "\\item 79\n",
       "\\item 81\n",
       "\\item 82\n",
       "\\item 84\n",
       "\\item 91\n",
       "\\item 92\n",
       "\\item 97\n",
       "\\item 103\n",
       "\\item 104\n",
       "\\item 106\n",
       "\\item 110\n",
       "\\item 111\n",
       "\\end{enumerate*}\n"
      ],
      "text/markdown": [
       "1. 9\n",
       "2. 12\n",
       "3. 13\n",
       "4. 16\n",
       "5. 25\n",
       "6. 26\n",
       "7. 28\n",
       "8. 29\n",
       "9. 46\n",
       "10. 47\n",
       "11. 48\n",
       "12. 52\n",
       "13. 53\n",
       "14. 59\n",
       "15. 65\n",
       "16. 67\n",
       "17. 69\n",
       "18. 74\n",
       "19. 78\n",
       "20. 79\n",
       "21. 81\n",
       "22. 82\n",
       "23. 84\n",
       "24. 91\n",
       "25. 92\n",
       "26. 97\n",
       "27. 103\n",
       "28. 104\n",
       "29. 106\n",
       "30. 110\n",
       "31. 111\n",
       "\n",
       "\n"
      ],
      "text/plain": [
       " [1]   9  12  13  16  25  26  28  29  46  47  48  52  53  59  65  67  69  74  78\n",
       "[20]  79  81  82  84  91  92  97 103 104 106 110 111"
      ]
     },
     "metadata": {},
     "output_type": "display_data"
    },
    {
     "data": {
      "text/html": [],
      "text/latex": [],
      "text/markdown": [],
      "text/plain": [
       "integer(0)"
      ]
     },
     "metadata": {},
     "output_type": "display_data"
    }
   ],
   "source": [
    "which(is.na(data$GAZE_DURATION))\n",
    "which(is.na(data$TOTAL_DURATION))\n",
    "which(is.na(data$FIRST_PASS_REGRESSION))\n",
    "which(is.na(data$FIRST_PAST_FIXATION))"
   ]
  },
  {
   "cell_type": "markdown",
   "metadata": {},
   "source": [
    "### Exclude the NAs"
   ]
  },
  {
   "cell_type": "code",
   "execution_count": 186,
   "metadata": {
    "collapsed": true
   },
   "outputs": [],
   "source": [
    "data <- data[(!is.na(data$GAZE_DURATION)),]\n",
    "data <- data[(!is.na(data$TOTAL_DURATION)),]\n",
    "data <- data[(!is.na(data$FIRST_PASS_REGRESSION)),]\n",
    "data <- data[(!is.na(data$FIRST_PAST_FIXATION)),]"
   ]
  },
  {
   "cell_type": "markdown",
   "metadata": {},
   "source": [
    "### Check whether it worked ok"
   ]
  },
  {
   "cell_type": "code",
   "execution_count": 187,
   "metadata": {
    "collapsed": false
   },
   "outputs": [
    {
     "data": {
      "text/html": [],
      "text/latex": [],
      "text/markdown": [],
      "text/plain": [
       "integer(0)"
      ]
     },
     "metadata": {},
     "output_type": "display_data"
    },
    {
     "data": {
      "text/html": [],
      "text/latex": [],
      "text/markdown": [],
      "text/plain": [
       "integer(0)"
      ]
     },
     "metadata": {},
     "output_type": "display_data"
    },
    {
     "data": {
      "text/html": [],
      "text/latex": [],
      "text/markdown": [],
      "text/plain": [
       "integer(0)"
      ]
     },
     "metadata": {},
     "output_type": "display_data"
    },
    {
     "data": {
      "text/html": [],
      "text/latex": [],
      "text/markdown": [],
      "text/plain": [
       "integer(0)"
      ]
     },
     "metadata": {},
     "output_type": "display_data"
    }
   ],
   "source": [
    "which(is.na(data$GAZE_DURATION))\n",
    "which(is.na(data$TOTAL_DURATION))\n",
    "which(is.na(data$FIRST_PASS_REGRESSION))\n",
    "which(is.na(data$FIRST_PAST_FIXATION))"
   ]
  },
  {
   "cell_type": "markdown",
   "metadata": {},
   "source": [
    "### Rename GROUP as CASE - because this example dataset is restricted to the comparison of two cases\n"
   ]
  },
  {
   "cell_type": "code",
   "execution_count": 188,
   "metadata": {
    "collapsed": true
   },
   "outputs": [],
   "source": [
    "data <- rename(data, c(GROUP=\"CASE\"))\n"
   ]
  },
  {
   "cell_type": "code",
   "execution_count": 189,
   "metadata": {
    "collapsed": false
   },
   "outputs": [],
   "source": [
    "# data"
   ]
  },
  {
   "cell_type": "markdown",
   "metadata": {},
   "source": [
    "## Data analysis\n",
    "\n",
    "There are four conditions (=TRIAL TYPES) in this dataset. Sentences with:\n",
    "*    High frequency predictable words\n",
    "*    High frequency unpredictable words\n",
    "*    Low frequency predictable words\n",
    "*    Low frequency unpredictable words\n",
    "\n",
    "**Independent variables** are: word frequency, contextual predictability and case\n",
    "\n",
    "**Dependent variables** are: gaze duration, total fixation duration, first-pass regression\n",
    "\n",
    "### We start by getting some descriptive stats, comparing the four trial types: \n",
    "\n",
    "### Gaze duration as a measure of TRIAL TYPE and CASE\n",
    "\n"
   ]
  },
  {
   "cell_type": "code",
   "execution_count": 190,
   "metadata": {
    "collapsed": false
   },
   "outputs": [],
   "source": [
    "# by(data$GAZE_DURATION, list(data$TRIAL_TYPE, data$CASE), stat.desc, basic= FALSE)"
   ]
  },
  {
   "cell_type": "markdown",
   "metadata": {},
   "source": [
    "### Total fixation duration as a measure of TRIAL TYPE and CASE\n",
    "\n"
   ]
  },
  {
   "cell_type": "code",
   "execution_count": 191,
   "metadata": {
    "collapsed": false
   },
   "outputs": [],
   "source": [
    "# by(data$TOTAL_DURATION, list(data$TRIAL_TYPE, data$CASE), stat.desc, basic= FALSE)"
   ]
  },
  {
   "cell_type": "markdown",
   "metadata": {},
   "source": [
    "### First-pass regression as a measure of TRIAL TYPE and CASE\n"
   ]
  },
  {
   "cell_type": "code",
   "execution_count": 192,
   "metadata": {
    "collapsed": false
   },
   "outputs": [],
   "source": [
    "# by(data$FIRST_PASS_REGRESSION, list(data$TRIAL_TYPE, data$CASE), stat.desc, basic= FALSE)"
   ]
  },
  {
   "cell_type": "markdown",
   "metadata": {},
   "source": [
    "## Plotting - Eye movements independent of trial types\n",
    "### Gaze duration"
   ]
  },
  {
   "cell_type": "code",
   "execution_count": 193,
   "metadata": {
    "collapsed": false
   },
   "outputs": [],
   "source": [
    "plot_gaze <- ggplot(data,aes(x=CASE, y=GAZE_DURATION, fill=CASE)) +  \n",
    "  stat_summary(fun.data=mean_cl_normal,position=position_dodge(0.95),geom=\"errorbar\") +\n",
    "  stat_summary(fun.y=mean,position=position_dodge(width=0.95),geom=\"bar\") +\n",
    "    ylab(\"Gaze duration in ms\") +\n",
    "    xlab(\"Case\") +\n",
    "    theme(axis.text=element_text(size=13)) +\n",
    "    theme(axis.title.x=element_text(size=13)) +\n",
    "    theme(axis.title.y=element_text(size=13)) +\n",
    "    ggtitle(\"Gaze duration NHI vs PWA\")\n",
    "#plot_gaze"
   ]
  },
  {
   "cell_type": "markdown",
   "metadata": {},
   "source": [
    "### Total fixation duration"
   ]
  },
  {
   "cell_type": "code",
   "execution_count": 194,
   "metadata": {
    "collapsed": false
   },
   "outputs": [],
   "source": [
    "plot_total <- ggplot(data,aes(x=CASE, y=TOTAL_DURATION, fill=CASE)) +  \n",
    "  stat_summary(fun.data=mean_cl_normal,position=position_dodge(0.95),geom=\"errorbar\") +\n",
    "  stat_summary(fun.y=mean,position=position_dodge(width=0.95),geom=\"bar\") +\n",
    "    ylab(\"Total duration in ms\") +\n",
    "    xlab(\"Case\") +\n",
    "    theme(axis.text=element_text(size=13)) +\n",
    "    theme(axis.title.x=element_text(size=13)) +\n",
    "    theme(axis.title.y=element_text(size=13)) +\n",
    "    ggtitle(\"Total duration NHI vs PWA\")\n",
    "#plot_total"
   ]
  },
  {
   "cell_type": "markdown",
   "metadata": {},
   "source": [
    "### First-pass regression\n"
   ]
  },
  {
   "cell_type": "code",
   "execution_count": 195,
   "metadata": {
    "collapsed": false
   },
   "outputs": [],
   "source": [
    "plot_regress_prob <- ggplot(data,aes(x=CASE, y=FIRST_PASS_REGRESSION, fill=CASE)) +  \n",
    "  stat_summary(fun.data=mean_cl_normal,position=position_dodge(0.95),geom=\"errorbar\") +\n",
    "  stat_summary(fun.y=mean,position=position_dodge(width=0.95),geom=\"bar\") +\n",
    "    ylab(\"Probability of first-pass regression\") +\n",
    "    xlab(\"Case\") +\n",
    "    theme(axis.text=element_text(size=13)) +\n",
    "    theme(axis.title.x=element_text(size=13)) +\n",
    "    theme(axis.title.y=element_text(size=13)) +\n",
    "    ggtitle(\"Probability of first-pass regression NHI vs PWA\")\n",
    "#plot_regress_prob"
   ]
  },
  {
   "cell_type": "code",
   "execution_count": 196,
   "metadata": {
    "collapsed": false
   },
   "outputs": [
    {
     "data": {
      "image/png": "[encoded data removed]",
      "text/plain": [
       "plot without title"
      ]
     },
     "metadata": {},
     "output_type": "display_data"
    }
   ],
   "source": [
    "grid.arrange(plot_gaze, plot_total, plot_regress_prob, ncol=2, respect=TRUE)"
   ]
  },
  {
   "cell_type": "markdown",
   "metadata": {},
   "source": [
    "### Summary: \n",
    "The participant with aphasia shows an increase in reading times and in first-pass regressions. \n",
    "\n"
   ]
  },
  {
   "cell_type": "markdown",
   "metadata": {
    "collapsed": true
   },
   "source": [
    "## Plotting - Eye movements as a function of trial type\n",
    "### Gaze duration"
   ]
  },
  {
   "cell_type": "code",
   "execution_count": 197,
   "metadata": {
    "collapsed": false
   },
   "outputs": [],
   "source": [
    "line_gaze <-\n",
    "ggplot(data, aes(x=PREDICTABILITY, y=GAZE_DURATION, group=interaction(CASE, FREQUENCY), colour=CASE, linetype=FREQUENCY)) +\n",
    "  stat_summary(fun.data=mean_cl_normal, geom=\"errorbar\", position=position_dodge(width=0.10), width=0.5)+\n",
    "  stat_summary(fun.y=mean, geom=\"line\", position=position_dodge(width=0.10)) +\n",
    "  stat_summary(fun.y=mean, geom=\"point\",position=position_dodge(width=0.10), aes(shape=CASE), size=5) +\n",
    "  scale_shape_manual(values = c(16, 18)) +\n",
    "  scale_x_discrete(limits=c(\"predictable\", \"unpredictable\")) + \n",
    "  theme (axis.text.x=element_text(colour=\"#000000\", size=13)) + \n",
    "  theme (axis.text.y=element_text(colour=\"#000000\", size=13)) +\n",
    "  theme(axis.title.y=element_text(colour=\"#000000\", size=13)) +\n",
    "  theme (axis.title.x = element_blank()) +\n",
    "  scale_y_continuous(name=\"Gaze duration in ms\") +\n",
    "  theme(legend.title = element_text(size=13)) +\n",
    "  theme(legend.text = element_text(size = 13)) +\n",
    "  theme(legend.position=\"right\")\n",
    "#line_gaze\n"
   ]
  },
  {
   "cell_type": "markdown",
   "metadata": {},
   "source": [
    "### Total fixation duration\n"
   ]
  },
  {
   "cell_type": "code",
   "execution_count": 198,
   "metadata": {
    "collapsed": false
   },
   "outputs": [],
   "source": [
    "line_total <-\n",
    "ggplot(data, aes(x=PREDICTABILITY, y=TOTAL_DURATION, group=interaction(CASE, FREQUENCY), colour=CASE, linetype=FREQUENCY)) +\n",
    "  stat_summary(fun.data=mean_cl_normal, geom=\"errorbar\", position=position_dodge(width=0.10), width=0.5)+\n",
    "  stat_summary(fun.y=mean, geom=\"line\", position=position_dodge(width=0.10)) +\n",
    "  stat_summary(fun.y=mean, geom=\"point\",position=position_dodge(width=0.10), aes(shape=CASE), size=5) +\n",
    "  scale_shape_manual(values = c(16, 18)) +\n",
    "  scale_x_discrete(limits=c(\"predictable\", \"unpredictable\")) + \n",
    "  theme (axis.text.x=element_text(colour=\"#000000\", size=13)) + \n",
    "  theme (axis.text.y=element_text(colour=\"#000000\", size=13)) +\n",
    "  theme(axis.title.y=element_text(colour=\"#000000\", size=13)) +\n",
    "  theme (axis.title.x = element_blank()) +\n",
    "  scale_y_continuous(name=\"Total duration in ms\") +\n",
    "  theme(legend.title = element_text(size=13)) +\n",
    "  theme(legend.text = element_text(size = 13)) +\n",
    "  theme(legend.position=\"right\")\n",
    "#line_total"
   ]
  },
  {
   "cell_type": "markdown",
   "metadata": {},
   "source": [
    "### First-pass regression"
   ]
  },
  {
   "cell_type": "code",
   "execution_count": 199,
   "metadata": {
    "collapsed": false
   },
   "outputs": [],
   "source": [
    "line_regression <-\n",
    "ggplot(data, aes(x=PREDICTABILITY, y=FIRST_PASS_REGRESSION, group=interaction(CASE, FREQUENCY), colour=CASE, linetype=FREQUENCY)) +\n",
    "  stat_summary(fun.data=mean_cl_normal, geom=\"errorbar\", position=position_dodge(width=0.10), width=0.5)+\n",
    "  stat_summary(fun.y=mean, geom=\"line\", position=position_dodge(width=0.10)) +\n",
    "  stat_summary(fun.y=mean, geom=\"point\",position=position_dodge(width=0.10), aes(shape=CASE), size=5) +\n",
    "  scale_shape_manual(values = c(16, 18)) +\n",
    "  scale_x_discrete(limits=c(\"predictable\", \"unpredictable\")) + \n",
    "  theme (axis.text.x=element_text(colour=\"#000000\", size=13)) + \n",
    "  theme (axis.text.y=element_text(colour=\"#000000\", size=13)) +\n",
    "  theme(axis.title.y=element_text(colour=\"#000000\", size=13)) +\n",
    "  theme (axis.title.x = element_blank()) +\n",
    "  scale_y_continuous(name=\"Probability of a first-pass regression\") +\n",
    "  theme(legend.title = element_text(size=13)) +\n",
    "  theme(legend.text = element_text(size = 13)) +\n",
    "  theme(legend.position=\"right\")\n",
    "#line_regression"
   ]
  },
  {
   "cell_type": "code",
   "execution_count": 200,
   "metadata": {
    "collapsed": false
   },
   "outputs": [
    {
     "data": {
      "image/png": "[encoded data removed]",
      "text/plain": [
       "plot without title"
      ]
     },
     "metadata": {},
     "output_type": "display_data"
    }
   ],
   "source": [
    "grid.arrange(line_gaze, line_total, line_regression, nrow=3)\n"
   ]
  },
  {
   "cell_type": "markdown",
   "metadata": {},
   "source": [
    "### Linear mixed model analysis of effects of word frequency and predictability\n"
   ]
  },
  {
   "cell_type": "markdown",
   "metadata": {},
   "source": [
    "### Gaze duration"
   ]
  },
  {
   "cell_type": "code",
   "execution_count": 201,
   "metadata": {
    "collapsed": false
   },
   "outputs": [
    {
     "data": {
      "text/plain": [
       "Linear mixed model fit by maximum likelihood t-tests use Satterthwaite\n",
       "  approximations to degrees of freedom [lmerMod]\n",
       "Formula: GAZE_DURATION ~ CASE + (1 | ITEM)\n",
       "   Data: data\n",
       "\n",
       "     AIC      BIC   logLik deviance df.resid \n",
       "   967.9    977.5   -480.0    959.9       77 \n",
       "\n",
       "Scaled residuals: \n",
       "    Min      1Q  Median      3Q     Max \n",
       "-1.8862 -0.6746 -0.1674  0.4092  3.2879 \n",
       "\n",
       "Random effects:\n",
       " Groups   Name        Variance Std.Dev.\n",
       " ITEM     (Intercept)  142.2   11.92   \n",
       " Residual             8069.8   89.83   \n",
       "Number of obs: 81, groups:  ITEM, 28\n",
       "\n",
       "Fixed effects:\n",
       "            Estimate Std. Error     df t value Pr(>|t|)    \n",
       "(Intercept)   248.25      13.91  65.88  17.850   <2e-16 ***\n",
       "CASEPWA        46.69      20.05  67.99   2.329   0.0229 *  \n",
       "---\n",
       "Signif. codes:  0 ‘***’ 0.001 ‘**’ 0.01 ‘*’ 0.05 ‘.’ 0.1 ‘ ’ 1\n",
       "\n",
       "Correlation of Fixed Effects:\n",
       "        (Intr)\n",
       "CASEPWA -0.676"
      ]
     },
     "metadata": {},
     "output_type": "display_data"
    }
   ],
   "source": [
    "model_simple = lmer (GAZE_DURATION ~ CASE + (1 | ITEM), \n",
    "                       data=data, REML=FALSE)\n",
    "summary(model_simple)\n"
   ]
  },
  {
   "cell_type": "code",
   "execution_count": 202,
   "metadata": {
    "collapsed": false
   },
   "outputs": [],
   "source": [
    "model_a = lmer (GAZE_DURATION ~CASE+FREQUENCY + (1 | ITEM), \n",
    "                       data=data, REML=FALSE)"
   ]
  },
  {
   "cell_type": "code",
   "execution_count": 203,
   "metadata": {
    "collapsed": false,
    "scrolled": true
   },
   "outputs": [
    {
     "data": {
      "text/html": [
       "<table>\n",
       "<thead><tr><th></th><th scope=col>Df</th><th scope=col>AIC</th><th scope=col>BIC</th><th scope=col>logLik</th><th scope=col>deviance</th><th scope=col>Chisq</th><th scope=col>Chi Df</th><th scope=col>Pr(&gt;Chisq)</th></tr></thead>\n",
       "<tbody>\n",
       "\t<tr><th scope=row>object</th><td>4        </td><td>967.9236 </td><td>977.5014 </td><td>-479.9618</td><td>959.9236 </td><td>       NA</td><td>NA       </td><td>      NA </td></tr>\n",
       "\t<tr><th scope=row>..1</th><td>5        </td><td>969.1437 </td><td>981.1159 </td><td>-479.5718</td><td>959.1437 </td><td>0.7799613</td><td> 1       </td><td>0.377153 </td></tr>\n",
       "</tbody>\n",
       "</table>\n"
      ],
      "text/latex": [
       "\\begin{tabular}{r|llllllll}\n",
       "  & Df & AIC & BIC & logLik & deviance & Chisq & Chi Df & Pr(>Chisq)\\\\\n",
       "\\hline\n",
       "\tobject & 4         & 967.9236  & 977.5014  & -479.9618 & 959.9236  &        NA & NA        &       NA \\\\\n",
       "\t..1 & 5         & 969.1437  & 981.1159  & -479.5718 & 959.1437  & 0.7799613 &  1        & 0.377153 \\\\\n",
       "\\end{tabular}\n"
      ],
      "text/markdown": [
       "\n",
       "| <!--/--> | Df | AIC | BIC | logLik | deviance | Chisq | Chi Df | Pr(>Chisq) | \n",
       "|---|---|\n",
       "| object | 4         | 967.9236  | 977.5014  | -479.9618 | 959.9236  |        NA | NA        |       NA  | \n",
       "| ..1 | 5         | 969.1437  | 981.1159  | -479.5718 | 959.1437  | 0.7799613 |  1        | 0.377153  | \n",
       "\n",
       "\n"
      ],
      "text/plain": [
       "       Df AIC      BIC      logLik    deviance Chisq     Chi Df Pr(>Chisq)\n",
       "object 4  967.9236 977.5014 -479.9618 959.9236        NA NA           NA  \n",
       "..1    5  969.1437 981.1159 -479.5718 959.1437 0.7799613  1     0.377153  "
      ]
     },
     "metadata": {},
     "output_type": "display_data"
    }
   ],
   "source": [
    "anova(model_simple, model_a)\n",
    "# not significant so FREQUENCY does not improve model fit"
   ]
  },
  {
   "cell_type": "code",
   "execution_count": 204,
   "metadata": {
    "collapsed": true
   },
   "outputs": [],
   "source": [
    "model_b = lmer (GAZE_DURATION ~CASE+PREDICTABILITY + (1 | ITEM), \n",
    "                       data=data, REML=FALSE)"
   ]
  },
  {
   "cell_type": "code",
   "execution_count": 205,
   "metadata": {
    "collapsed": false
   },
   "outputs": [
    {
     "data": {
      "text/html": [
       "<table>\n",
       "<thead><tr><th></th><th scope=col>Df</th><th scope=col>AIC</th><th scope=col>BIC</th><th scope=col>logLik</th><th scope=col>deviance</th><th scope=col>Chisq</th><th scope=col>Chi Df</th><th scope=col>Pr(&gt;Chisq)</th></tr></thead>\n",
       "<tbody>\n",
       "\t<tr><th scope=row>object</th><td>4         </td><td>967.9236  </td><td>977.5014  </td><td>-479.9618 </td><td>959.9236  </td><td>     NA   </td><td>NA        </td><td>        NA</td></tr>\n",
       "\t<tr><th scope=row>..1</th><td>5         </td><td>966.7371  </td><td>978.7093  </td><td>-478.3685 </td><td>956.7371  </td><td>3.18653   </td><td> 1        </td><td>0.07424748</td></tr>\n",
       "</tbody>\n",
       "</table>\n"
      ],
      "text/latex": [
       "\\begin{tabular}{r|llllllll}\n",
       "  & Df & AIC & BIC & logLik & deviance & Chisq & Chi Df & Pr(>Chisq)\\\\\n",
       "\\hline\n",
       "\tobject & 4          & 967.9236   & 977.5014   & -479.9618  & 959.9236   &      NA    & NA         &         NA\\\\\n",
       "\t..1 & 5          & 966.7371   & 978.7093   & -478.3685  & 956.7371   & 3.18653    &  1         & 0.07424748\\\\\n",
       "\\end{tabular}\n"
      ],
      "text/markdown": [
       "\n",
       "| <!--/--> | Df | AIC | BIC | logLik | deviance | Chisq | Chi Df | Pr(>Chisq) | \n",
       "|---|---|\n",
       "| object | 4          | 967.9236   | 977.5014   | -479.9618  | 959.9236   |      NA    | NA         |         NA | \n",
       "| ..1 | 5          | 966.7371   | 978.7093   | -478.3685  | 956.7371   | 3.18653    |  1         | 0.07424748 | \n",
       "\n",
       "\n"
      ],
      "text/plain": [
       "       Df AIC      BIC      logLik    deviance Chisq   Chi Df Pr(>Chisq)\n",
       "object 4  967.9236 977.5014 -479.9618 959.9236      NA NA             NA\n",
       "..1    5  966.7371 978.7093 -478.3685 956.7371 3.18653  1     0.07424748"
      ]
     },
     "metadata": {},
     "output_type": "display_data"
    }
   ],
   "source": [
    "anova(model_simple, model_b)\n",
    "# not significant so PREDICTABILITY does not improve model fit"
   ]
  },
  {
   "cell_type": "code",
   "execution_count": 206,
   "metadata": {
    "collapsed": false
   },
   "outputs": [
    {
     "data": {
      "text/html": [
       "<table>\n",
       "<thead><tr><th></th><th scope=col>Df</th><th scope=col>AIC</th><th scope=col>BIC</th><th scope=col>logLik</th><th scope=col>deviance</th><th scope=col>Chisq</th><th scope=col>Chi Df</th><th scope=col>Pr(&gt;Chisq)</th></tr></thead>\n",
       "<tbody>\n",
       "\t<tr><th scope=row>object</th><td>5         </td><td>966.7371  </td><td>978.7093  </td><td>-478.3685 </td><td>956.7371  </td><td>      NA  </td><td>NA        </td><td>        NA</td></tr>\n",
       "\t<tr><th scope=row>..1</th><td>6         </td><td>965.8396  </td><td>980.2063  </td><td>-476.9198 </td><td>953.8396  </td><td>2.897467  </td><td> 1        </td><td>0.08871884</td></tr>\n",
       "</tbody>\n",
       "</table>\n"
      ],
      "text/latex": [
       "\\begin{tabular}{r|llllllll}\n",
       "  & Df & AIC & BIC & logLik & deviance & Chisq & Chi Df & Pr(>Chisq)\\\\\n",
       "\\hline\n",
       "\tobject & 5          & 966.7371   & 978.7093   & -478.3685  & 956.7371   &       NA   & NA         &         NA\\\\\n",
       "\t..1 & 6          & 965.8396   & 980.2063   & -476.9198  & 953.8396   & 2.897467   &  1         & 0.08871884\\\\\n",
       "\\end{tabular}\n"
      ],
      "text/markdown": [
       "\n",
       "| <!--/--> | Df | AIC | BIC | logLik | deviance | Chisq | Chi Df | Pr(>Chisq) | \n",
       "|---|---|\n",
       "| object | 5          | 966.7371   | 978.7093   | -478.3685  | 956.7371   |       NA   | NA         |         NA | \n",
       "| ..1 | 6          | 965.8396   | 980.2063   | -476.9198  | 953.8396   | 2.897467   |  1         | 0.08871884 | \n",
       "\n",
       "\n"
      ],
      "text/plain": [
       "       Df AIC      BIC      logLik    deviance Chisq    Chi Df Pr(>Chisq)\n",
       "object 5  966.7371 978.7093 -478.3685 956.7371       NA NA             NA\n",
       "..1    6  965.8396 980.2063 -476.9198 953.8396 2.897467  1     0.08871884"
      ]
     },
     "metadata": {},
     "output_type": "display_data"
    }
   ],
   "source": [
    "# Checking for interaction between CASE and PREDICTABILITY\n",
    "model_c = lmer (GAZE_DURATION~CASE + PREDICTABILITY + (1 | ITEM), \n",
    "                     data=data, REML=FALSE)\n",
    "model_d = lmer (GAZE_DURATION~CASE * PREDICTABILITY + (1 | ITEM), \n",
    "                     data=data, REML=FALSE)\n",
    "anova(model_c, model_d) # not significant so no interaction between CASE and PREDICTABIITY "
   ]
  },
  {
   "cell_type": "code",
   "execution_count": 207,
   "metadata": {
    "collapsed": false
   },
   "outputs": [
    {
     "data": {
      "text/html": [
       "<table>\n",
       "<thead><tr><th></th><th scope=col>Df</th><th scope=col>AIC</th><th scope=col>BIC</th><th scope=col>logLik</th><th scope=col>deviance</th><th scope=col>Chisq</th><th scope=col>Chi Df</th><th scope=col>Pr(&gt;Chisq)</th></tr></thead>\n",
       "<tbody>\n",
       "\t<tr><th scope=row>object</th><td>5         </td><td>969.1437  </td><td>981.1159  </td><td>-479.5718 </td><td>959.1437  </td><td>      NA  </td><td>NA        </td><td>        NA</td></tr>\n",
       "\t<tr><th scope=row>..1</th><td>6         </td><td>966.6410  </td><td>981.0077  </td><td>-477.3205 </td><td>954.6410  </td><td>4.502692  </td><td> 1        </td><td>0.03384154</td></tr>\n",
       "</tbody>\n",
       "</table>\n"
      ],
      "text/latex": [
       "\\begin{tabular}{r|llllllll}\n",
       "  & Df & AIC & BIC & logLik & deviance & Chisq & Chi Df & Pr(>Chisq)\\\\\n",
       "\\hline\n",
       "\tobject & 5          & 969.1437   & 981.1159   & -479.5718  & 959.1437   &       NA   & NA         &         NA\\\\\n",
       "\t..1 & 6          & 966.6410   & 981.0077   & -477.3205  & 954.6410   & 4.502692   &  1         & 0.03384154\\\\\n",
       "\\end{tabular}\n"
      ],
      "text/markdown": [
       "\n",
       "| <!--/--> | Df | AIC | BIC | logLik | deviance | Chisq | Chi Df | Pr(>Chisq) | \n",
       "|---|---|\n",
       "| object | 5          | 969.1437   | 981.1159   | -479.5718  | 959.1437   |       NA   | NA         |         NA | \n",
       "| ..1 | 6          | 966.6410   | 981.0077   | -477.3205  | 954.6410   | 4.502692   |  1         | 0.03384154 | \n",
       "\n",
       "\n"
      ],
      "text/plain": [
       "       Df AIC      BIC      logLik    deviance Chisq    Chi Df Pr(>Chisq)\n",
       "object 5  969.1437 981.1159 -479.5718 959.1437       NA NA             NA\n",
       "..1    6  966.6410 981.0077 -477.3205 954.6410 4.502692  1     0.03384154"
      ]
     },
     "metadata": {},
     "output_type": "display_data"
    }
   ],
   "source": [
    "# Checking for interaction between CASE and FREQUENCY\n",
    "model_e = lmer (GAZE_DURATION~CASE + FREQUENCY + (1 | ITEM), \n",
    "                     data=data, REML=FALSE)\n",
    "model_f = lmer (GAZE_DURATION~CASE * FREQUENCY + (1 | ITEM), \n",
    "                     data=data, REML=FALSE)\n",
    "anova(model_e, model_f) # there is a significant interaction between CASE and FREQUENCY "
   ]
  },
  {
   "cell_type": "markdown",
   "metadata": {},
   "source": [
    "### Total duration"
   ]
  },
  {
   "cell_type": "code",
   "execution_count": 208,
   "metadata": {
    "collapsed": false
   },
   "outputs": [
    {
     "data": {
      "text/plain": [
       "Linear mixed model fit by maximum likelihood t-tests use Satterthwaite\n",
       "  approximations to degrees of freedom [lmerMod]\n",
       "Formula: TOTAL_DURATION ~ CASE + (1 | ITEM)\n",
       "   Data: data\n",
       "\n",
       "     AIC      BIC   logLik deviance df.resid \n",
       "  1192.5   1202.1   -592.2   1184.5       77 \n",
       "\n",
       "Scaled residuals: \n",
       "    Min      1Q  Median      3Q     Max \n",
       "-1.9478 -0.4447 -0.1845  0.3674  3.3283 \n",
       "\n",
       "Random effects:\n",
       " Groups   Name        Variance  Std.Dev. \n",
       " ITEM     (Intercept) 2.795e-12 1.672e-06\n",
       " Residual             1.313e+05 3.624e+02\n",
       "Number of obs: 81, groups:  ITEM, 28\n",
       "\n",
       "Fixed effects:\n",
       "            Estimate Std. Error     df t value Pr(>|t|)    \n",
       "(Intercept)   308.16      55.26  79.88   5.576 3.24e-07 ***\n",
       "CASEPWA       611.71      80.69  79.88   7.581 5.36e-11 ***\n",
       "---\n",
       "Signif. codes:  0 ‘***’ 0.001 ‘**’ 0.01 ‘*’ 0.05 ‘.’ 0.1 ‘ ’ 1\n",
       "\n",
       "Correlation of Fixed Effects:\n",
       "        (Intr)\n",
       "CASEPWA -0.685"
      ]
     },
     "metadata": {},
     "output_type": "display_data"
    }
   ],
   "source": [
    "model_TD_simple = lmer (TOTAL_DURATION ~CASE + (1 | ITEM), \n",
    "                       data=data, REML=FALSE)\n",
    "summary(model_TD_simple)"
   ]
  },
  {
   "cell_type": "code",
   "execution_count": 209,
   "metadata": {
    "collapsed": true
   },
   "outputs": [],
   "source": [
    "model_TD_a = lmer (TOTAL_DURATION ~CASE+FREQUENCY + (1 | ITEM), \n",
    "                       data=data, REML=FALSE)"
   ]
  },
  {
   "cell_type": "code",
   "execution_count": 210,
   "metadata": {
    "collapsed": false
   },
   "outputs": [
    {
     "data": {
      "text/html": [
       "<table>\n",
       "<thead><tr><th></th><th scope=col>Df</th><th scope=col>AIC</th><th scope=col>BIC</th><th scope=col>logLik</th><th scope=col>deviance</th><th scope=col>Chisq</th><th scope=col>Chi Df</th><th scope=col>Pr(&gt;Chisq)</th></tr></thead>\n",
       "<tbody>\n",
       "\t<tr><th scope=row>object</th><td>4        </td><td>1192.489 </td><td>1202.067 </td><td>-592.2445</td><td>1184.489 </td><td>       NA</td><td>NA       </td><td>      NA </td></tr>\n",
       "\t<tr><th scope=row>..1</th><td>5        </td><td>1194.352 </td><td>1206.324 </td><td>-592.1758</td><td>1184.352 </td><td>0.1373259</td><td> 1       </td><td>0.710954 </td></tr>\n",
       "</tbody>\n",
       "</table>\n"
      ],
      "text/latex": [
       "\\begin{tabular}{r|llllllll}\n",
       "  & Df & AIC & BIC & logLik & deviance & Chisq & Chi Df & Pr(>Chisq)\\\\\n",
       "\\hline\n",
       "\tobject & 4         & 1192.489  & 1202.067  & -592.2445 & 1184.489  &        NA & NA        &       NA \\\\\n",
       "\t..1 & 5         & 1194.352  & 1206.324  & -592.1758 & 1184.352  & 0.1373259 &  1        & 0.710954 \\\\\n",
       "\\end{tabular}\n"
      ],
      "text/markdown": [
       "\n",
       "| <!--/--> | Df | AIC | BIC | logLik | deviance | Chisq | Chi Df | Pr(>Chisq) | \n",
       "|---|---|\n",
       "| object | 4         | 1192.489  | 1202.067  | -592.2445 | 1184.489  |        NA | NA        |       NA  | \n",
       "| ..1 | 5         | 1194.352  | 1206.324  | -592.1758 | 1184.352  | 0.1373259 |  1        | 0.710954  | \n",
       "\n",
       "\n"
      ],
      "text/plain": [
       "       Df AIC      BIC      logLik    deviance Chisq     Chi Df Pr(>Chisq)\n",
       "object 4  1192.489 1202.067 -592.2445 1184.489        NA NA           NA  \n",
       "..1    5  1194.352 1206.324 -592.1758 1184.352 0.1373259  1     0.710954  "
      ]
     },
     "metadata": {},
     "output_type": "display_data"
    }
   ],
   "source": [
    "anova(model_TD_simple, model_TD_a)\n",
    "# not significant so FREQUENCY does not improve model fit"
   ]
  },
  {
   "cell_type": "code",
   "execution_count": 211,
   "metadata": {
    "collapsed": true
   },
   "outputs": [],
   "source": [
    "model_TD_b = lmer (TOTAL_DURATION ~CASE+PREDICTABILITY + (1 | ITEM), \n",
    "                       data=data, REML=FALSE)"
   ]
  },
  {
   "cell_type": "code",
   "execution_count": 212,
   "metadata": {
    "collapsed": false
   },
   "outputs": [
    {
     "data": {
      "text/html": [
       "<table>\n",
       "<thead><tr><th></th><th scope=col>Df</th><th scope=col>AIC</th><th scope=col>BIC</th><th scope=col>logLik</th><th scope=col>deviance</th><th scope=col>Chisq</th><th scope=col>Chi Df</th><th scope=col>Pr(&gt;Chisq)</th></tr></thead>\n",
       "<tbody>\n",
       "\t<tr><th scope=row>object</th><td>4          </td><td>1192.489   </td><td>1202.067   </td><td>-592.2445  </td><td>1184.489   </td><td>      NA   </td><td>NA         </td><td>         NA</td></tr>\n",
       "\t<tr><th scope=row>..1</th><td>5          </td><td>1184.056   </td><td>1196.028   </td><td>-587.0281  </td><td>1174.056   </td><td>10.43276   </td><td> 1         </td><td>0.001237993</td></tr>\n",
       "</tbody>\n",
       "</table>\n"
      ],
      "text/latex": [
       "\\begin{tabular}{r|llllllll}\n",
       "  & Df & AIC & BIC & logLik & deviance & Chisq & Chi Df & Pr(>Chisq)\\\\\n",
       "\\hline\n",
       "\tobject & 4           & 1192.489    & 1202.067    & -592.2445   & 1184.489    &       NA    & NA          &          NA\\\\\n",
       "\t..1 & 5           & 1184.056    & 1196.028    & -587.0281   & 1174.056    & 10.43276    &  1          & 0.001237993\\\\\n",
       "\\end{tabular}\n"
      ],
      "text/markdown": [
       "\n",
       "| <!--/--> | Df | AIC | BIC | logLik | deviance | Chisq | Chi Df | Pr(>Chisq) | \n",
       "|---|---|\n",
       "| object | 4           | 1192.489    | 1202.067    | -592.2445   | 1184.489    |       NA    | NA          |          NA | \n",
       "| ..1 | 5           | 1184.056    | 1196.028    | -587.0281   | 1174.056    | 10.43276    |  1          | 0.001237993 | \n",
       "\n",
       "\n"
      ],
      "text/plain": [
       "       Df AIC      BIC      logLik    deviance Chisq    Chi Df Pr(>Chisq) \n",
       "object 4  1192.489 1202.067 -592.2445 1184.489       NA NA              NA\n",
       "..1    5  1184.056 1196.028 -587.0281 1174.056 10.43276  1     0.001237993"
      ]
     },
     "metadata": {},
     "output_type": "display_data"
    }
   ],
   "source": [
    "anova(model_TD_simple, model_TD_b)\n",
    "# significant so PREDICTABILITY does improve model fit"
   ]
  },
  {
   "cell_type": "code",
   "execution_count": 213,
   "metadata": {
    "collapsed": false
   },
   "outputs": [
    {
     "data": {
      "text/html": [
       "<table>\n",
       "<thead><tr><th></th><th scope=col>Df</th><th scope=col>AIC</th><th scope=col>BIC</th><th scope=col>logLik</th><th scope=col>deviance</th><th scope=col>Chisq</th><th scope=col>Chi Df</th><th scope=col>Pr(&gt;Chisq)</th></tr></thead>\n",
       "<tbody>\n",
       "\t<tr><th scope=row>object</th><td>5         </td><td>1184.056  </td><td>1196.028  </td><td>-587.0281 </td><td>1174.056  </td><td>      NA  </td><td>NA        </td><td>        NA</td></tr>\n",
       "\t<tr><th scope=row>..1</th><td>6         </td><td>1181.261  </td><td>1195.628  </td><td>-584.6304 </td><td>1169.261  </td><td>4.795271  </td><td> 1        </td><td>0.02853797</td></tr>\n",
       "</tbody>\n",
       "</table>\n"
      ],
      "text/latex": [
       "\\begin{tabular}{r|llllllll}\n",
       "  & Df & AIC & BIC & logLik & deviance & Chisq & Chi Df & Pr(>Chisq)\\\\\n",
       "\\hline\n",
       "\tobject & 5          & 1184.056   & 1196.028   & -587.0281  & 1174.056   &       NA   & NA         &         NA\\\\\n",
       "\t..1 & 6          & 1181.261   & 1195.628   & -584.6304  & 1169.261   & 4.795271   &  1         & 0.02853797\\\\\n",
       "\\end{tabular}\n"
      ],
      "text/markdown": [
       "\n",
       "| <!--/--> | Df | AIC | BIC | logLik | deviance | Chisq | Chi Df | Pr(>Chisq) | \n",
       "|---|---|\n",
       "| object | 5          | 1184.056   | 1196.028   | -587.0281  | 1174.056   |       NA   | NA         |         NA | \n",
       "| ..1 | 6          | 1181.261   | 1195.628   | -584.6304  | 1169.261   | 4.795271   |  1         | 0.02853797 | \n",
       "\n",
       "\n"
      ],
      "text/plain": [
       "       Df AIC      BIC      logLik    deviance Chisq    Chi Df Pr(>Chisq)\n",
       "object 5  1184.056 1196.028 -587.0281 1174.056       NA NA             NA\n",
       "..1    6  1181.261 1195.628 -584.6304 1169.261 4.795271  1     0.02853797"
      ]
     },
     "metadata": {},
     "output_type": "display_data"
    }
   ],
   "source": [
    "# Checking for interaction between CASE and PREDICTABILITY\n",
    "model_TD_c = lmer (TOTAL_DURATION~CASE + PREDICTABILITY + (1 | ITEM), \n",
    "                     data=data, REML=FALSE)\n",
    "model_TD_d = lmer (TOTAL_DURATION~CASE * PREDICTABILITY + (1 | ITEM), \n",
    "                     data=data, REML=FALSE)\n",
    "anova(model_TD_c, model_TD_d) # not significant so no interaction between CASE and PREDICTABIITY "
   ]
  },
  {
   "cell_type": "code",
   "execution_count": 214,
   "metadata": {
    "collapsed": false
   },
   "outputs": [
    {
     "data": {
      "text/html": [
       "<table>\n",
       "<thead><tr><th></th><th scope=col>Df</th><th scope=col>AIC</th><th scope=col>BIC</th><th scope=col>logLik</th><th scope=col>deviance</th><th scope=col>Chisq</th><th scope=col>Chi Df</th><th scope=col>Pr(&gt;Chisq)</th></tr></thead>\n",
       "<tbody>\n",
       "\t<tr><th scope=row>object</th><td>5        </td><td>1194.352 </td><td>1206.324 </td><td>-592.1758</td><td>1184.352 </td><td>       NA</td><td>NA       </td><td>       NA</td></tr>\n",
       "\t<tr><th scope=row>..1</th><td>6        </td><td>1196.177 </td><td>1210.544 </td><td>-592.0887</td><td>1184.177 </td><td>0.1741596</td><td> 1       </td><td>0.6764412</td></tr>\n",
       "</tbody>\n",
       "</table>\n"
      ],
      "text/latex": [
       "\\begin{tabular}{r|llllllll}\n",
       "  & Df & AIC & BIC & logLik & deviance & Chisq & Chi Df & Pr(>Chisq)\\\\\n",
       "\\hline\n",
       "\tobject & 5         & 1194.352  & 1206.324  & -592.1758 & 1184.352  &        NA & NA        &        NA\\\\\n",
       "\t..1 & 6         & 1196.177  & 1210.544  & -592.0887 & 1184.177  & 0.1741596 &  1        & 0.6764412\\\\\n",
       "\\end{tabular}\n"
      ],
      "text/markdown": [
       "\n",
       "| <!--/--> | Df | AIC | BIC | logLik | deviance | Chisq | Chi Df | Pr(>Chisq) | \n",
       "|---|---|\n",
       "| object | 5         | 1194.352  | 1206.324  | -592.1758 | 1184.352  |        NA | NA        |        NA | \n",
       "| ..1 | 6         | 1196.177  | 1210.544  | -592.0887 | 1184.177  | 0.1741596 |  1        | 0.6764412 | \n",
       "\n",
       "\n"
      ],
      "text/plain": [
       "       Df AIC      BIC      logLik    deviance Chisq     Chi Df Pr(>Chisq)\n",
       "object 5  1194.352 1206.324 -592.1758 1184.352        NA NA            NA \n",
       "..1    6  1196.177 1210.544 -592.0887 1184.177 0.1741596  1     0.6764412 "
      ]
     },
     "metadata": {},
     "output_type": "display_data"
    }
   ],
   "source": [
    "# Checking for interaction between CASE and FREQUENCY\n",
    "model_TD_e = lmer (TOTAL_DURATION~CASE + FREQUENCY + (1 | ITEM), \n",
    "                     data=data, REML=FALSE)\n",
    "model_TD_f = lmer (TOTAL_DURATION~CASE * FREQUENCY + (1 | ITEM), \n",
    "                     data=data, REML=FALSE)\n",
    "anova(model_TD_e, model_TD_f) # no significant interaction between CASE and FREQUENCY "
   ]
  },
  {
   "cell_type": "markdown",
   "metadata": {},
   "source": [
    "### First-pass regression"
   ]
  },
  {
   "cell_type": "code",
   "execution_count": 215,
   "metadata": {
    "collapsed": false
   },
   "outputs": [
    {
     "data": {
      "text/plain": [
       "Linear mixed model fit by maximum likelihood t-tests use Satterthwaite\n",
       "  approximations to degrees of freedom [lmerMod]\n",
       "Formula: FIRST_PASS_REGRESSION ~ CASE + (1 | ITEM)\n",
       "   Data: data\n",
       "\n",
       "     AIC      BIC   logLik deviance df.resid \n",
       "   103.0    112.6    -47.5     95.0       77 \n",
       "\n",
       "Scaled residuals: \n",
       "    Min      1Q  Median      3Q     Max \n",
       "-0.7856 -0.6881 -0.4854  1.4974  1.8357 \n",
       "\n",
       "Random effects:\n",
       " Groups   Name        Variance Std.Dev.\n",
       " ITEM     (Intercept) 0.003593 0.05994 \n",
       " Residual             0.185625 0.43084 \n",
       "Number of obs: 81, groups:  ITEM, 28\n",
       "\n",
       "Fixed effects:\n",
       "            Estimate Std. Error      df t value Pr(>|t|)   \n",
       "(Intercept)   0.2100     0.0668 63.6500   3.144  0.00253 **\n",
       "CASEPWA       0.1053     0.0962 66.0200   1.095  0.27759   \n",
       "---\n",
       "Signif. codes:  0 ‘***’ 0.001 ‘**’ 0.01 ‘*’ 0.05 ‘.’ 0.1 ‘ ’ 1\n",
       "\n",
       "Correlation of Fixed Effects:\n",
       "        (Intr)\n",
       "CASEPWA -0.675"
      ]
     },
     "metadata": {},
     "output_type": "display_data"
    }
   ],
   "source": [
    "model_R_simple = lmer (FIRST_PASS_REGRESSION ~CASE + (1 | ITEM), \n",
    "                       data=data, REML=FALSE)\n",
    "summary(model_R_simple)"
   ]
  },
  {
   "cell_type": "code",
   "execution_count": 216,
   "metadata": {
    "collapsed": true
   },
   "outputs": [],
   "source": [
    "model_R_a = lmer (FIRST_PASS_REGRESSION ~CASE+FREQUENCY + (1 | ITEM), \n",
    "                       data=data, REML=FALSE)"
   ]
  },
  {
   "cell_type": "code",
   "execution_count": 217,
   "metadata": {
    "collapsed": false
   },
   "outputs": [
    {
     "data": {
      "text/html": [
       "<table>\n",
       "<thead><tr><th></th><th scope=col>Df</th><th scope=col>AIC</th><th scope=col>BIC</th><th scope=col>logLik</th><th scope=col>deviance</th><th scope=col>Chisq</th><th scope=col>Chi Df</th><th scope=col>Pr(&gt;Chisq)</th></tr></thead>\n",
       "<tbody>\n",
       "\t<tr><th scope=row>object</th><td>4         </td><td>102.9840  </td><td>112.5618  </td><td>-47.49200 </td><td>94.98401  </td><td>        NA</td><td>NA        </td><td>       NA </td></tr>\n",
       "\t<tr><th scope=row>..1</th><td>5         </td><td>104.9812  </td><td>116.9534  </td><td>-47.49058 </td><td>94.98115  </td><td>0.00285726</td><td> 1        </td><td>0.9573707 </td></tr>\n",
       "</tbody>\n",
       "</table>\n"
      ],
      "text/latex": [
       "\\begin{tabular}{r|llllllll}\n",
       "  & Df & AIC & BIC & logLik & deviance & Chisq & Chi Df & Pr(>Chisq)\\\\\n",
       "\\hline\n",
       "\tobject & 4          & 102.9840   & 112.5618   & -47.49200  & 94.98401   &         NA & NA         &        NA \\\\\n",
       "\t..1 & 5          & 104.9812   & 116.9534   & -47.49058  & 94.98115   & 0.00285726 &  1         & 0.9573707 \\\\\n",
       "\\end{tabular}\n"
      ],
      "text/markdown": [
       "\n",
       "| <!--/--> | Df | AIC | BIC | logLik | deviance | Chisq | Chi Df | Pr(>Chisq) | \n",
       "|---|---|\n",
       "| object | 4          | 102.9840   | 112.5618   | -47.49200  | 94.98401   |         NA | NA         |        NA  | \n",
       "| ..1 | 5          | 104.9812   | 116.9534   | -47.49058  | 94.98115   | 0.00285726 |  1         | 0.9573707  | \n",
       "\n",
       "\n"
      ],
      "text/plain": [
       "       Df AIC      BIC      logLik    deviance Chisq      Chi Df Pr(>Chisq)\n",
       "object 4  102.9840 112.5618 -47.49200 94.98401         NA NA            NA \n",
       "..1    5  104.9812 116.9534 -47.49058 94.98115 0.00285726  1     0.9573707 "
      ]
     },
     "metadata": {},
     "output_type": "display_data"
    }
   ],
   "source": [
    "anova(model_R_simple, model_R_a)\n",
    "# not significant so FREQUENCY does not improve model fit"
   ]
  },
  {
   "cell_type": "code",
   "execution_count": 218,
   "metadata": {
    "collapsed": true
   },
   "outputs": [],
   "source": [
    "model_R_b = lmer (FIRST_PASS_REGRESSION ~CASE+PREDICTABILITY + (1 | ITEM), \n",
    "                       data=data, REML=FALSE)"
   ]
  },
  {
   "cell_type": "code",
   "execution_count": 219,
   "metadata": {
    "collapsed": false
   },
   "outputs": [
    {
     "data": {
      "text/html": [
       "<table>\n",
       "<thead><tr><th></th><th scope=col>Df</th><th scope=col>AIC</th><th scope=col>BIC</th><th scope=col>logLik</th><th scope=col>deviance</th><th scope=col>Chisq</th><th scope=col>Chi Df</th><th scope=col>Pr(&gt;Chisq)</th></tr></thead>\n",
       "<tbody>\n",
       "\t<tr><th scope=row>object</th><td>4        </td><td>102.9840 </td><td>112.5618 </td><td>-47.49200</td><td>94.98401 </td><td>       NA</td><td>NA       </td><td>       NA</td></tr>\n",
       "\t<tr><th scope=row>..1</th><td>5        </td><td>104.6987 </td><td>116.6709 </td><td>-47.34935</td><td>94.69870 </td><td>0.2853102</td><td> 1       </td><td>0.5932416</td></tr>\n",
       "</tbody>\n",
       "</table>\n"
      ],
      "text/latex": [
       "\\begin{tabular}{r|llllllll}\n",
       "  & Df & AIC & BIC & logLik & deviance & Chisq & Chi Df & Pr(>Chisq)\\\\\n",
       "\\hline\n",
       "\tobject & 4         & 102.9840  & 112.5618  & -47.49200 & 94.98401  &        NA & NA        &        NA\\\\\n",
       "\t..1 & 5         & 104.6987  & 116.6709  & -47.34935 & 94.69870  & 0.2853102 &  1        & 0.5932416\\\\\n",
       "\\end{tabular}\n"
      ],
      "text/markdown": [
       "\n",
       "| <!--/--> | Df | AIC | BIC | logLik | deviance | Chisq | Chi Df | Pr(>Chisq) | \n",
       "|---|---|\n",
       "| object | 4         | 102.9840  | 112.5618  | -47.49200 | 94.98401  |        NA | NA        |        NA | \n",
       "| ..1 | 5         | 104.6987  | 116.6709  | -47.34935 | 94.69870  | 0.2853102 |  1        | 0.5932416 | \n",
       "\n",
       "\n"
      ],
      "text/plain": [
       "       Df AIC      BIC      logLik    deviance Chisq     Chi Df Pr(>Chisq)\n",
       "object 4  102.9840 112.5618 -47.49200 94.98401        NA NA            NA \n",
       "..1    5  104.6987 116.6709 -47.34935 94.69870 0.2853102  1     0.5932416 "
      ]
     },
     "metadata": {},
     "output_type": "display_data"
    }
   ],
   "source": [
    "anova(model_R_simple, model_R_b)\n",
    "# not significant so PREDICTABILITY does not improve model fit"
   ]
  },
  {
   "cell_type": "code",
   "execution_count": 220,
   "metadata": {
    "collapsed": false
   },
   "outputs": [
    {
     "data": {
      "text/html": [
       "<table>\n",
       "<thead><tr><th></th><th scope=col>Df</th><th scope=col>AIC</th><th scope=col>BIC</th><th scope=col>logLik</th><th scope=col>deviance</th><th scope=col>Chisq</th><th scope=col>Chi Df</th><th scope=col>Pr(&gt;Chisq)</th></tr></thead>\n",
       "<tbody>\n",
       "\t<tr><th scope=row>object</th><td>5        </td><td>104.6987 </td><td>116.6709 </td><td>-47.34935</td><td>94.69870 </td><td>       NA</td><td>NA       </td><td>       NA</td></tr>\n",
       "\t<tr><th scope=row>..1</th><td>6        </td><td>105.9649 </td><td>120.3316 </td><td>-46.98246</td><td>93.96492 </td><td>0.7337814</td><td> 1       </td><td>0.3916602</td></tr>\n",
       "</tbody>\n",
       "</table>\n"
      ],
      "text/latex": [
       "\\begin{tabular}{r|llllllll}\n",
       "  & Df & AIC & BIC & logLik & deviance & Chisq & Chi Df & Pr(>Chisq)\\\\\n",
       "\\hline\n",
       "\tobject & 5         & 104.6987  & 116.6709  & -47.34935 & 94.69870  &        NA & NA        &        NA\\\\\n",
       "\t..1 & 6         & 105.9649  & 120.3316  & -46.98246 & 93.96492  & 0.7337814 &  1        & 0.3916602\\\\\n",
       "\\end{tabular}\n"
      ],
      "text/markdown": [
       "\n",
       "| <!--/--> | Df | AIC | BIC | logLik | deviance | Chisq | Chi Df | Pr(>Chisq) | \n",
       "|---|---|\n",
       "| object | 5         | 104.6987  | 116.6709  | -47.34935 | 94.69870  |        NA | NA        |        NA | \n",
       "| ..1 | 6         | 105.9649  | 120.3316  | -46.98246 | 93.96492  | 0.7337814 |  1        | 0.3916602 | \n",
       "\n",
       "\n"
      ],
      "text/plain": [
       "       Df AIC      BIC      logLik    deviance Chisq     Chi Df Pr(>Chisq)\n",
       "object 5  104.6987 116.6709 -47.34935 94.69870        NA NA            NA \n",
       "..1    6  105.9649 120.3316 -46.98246 93.96492 0.7337814  1     0.3916602 "
      ]
     },
     "metadata": {},
     "output_type": "display_data"
    }
   ],
   "source": [
    "# Checking for interaction between CASE and PREDICTABILITY\n",
    "model_R_c = lmer (FIRST_PASS_REGRESSION~CASE + PREDICTABILITY + (1 | ITEM), \n",
    "                     data=data, REML=FALSE)\n",
    "model_R_d = lmer (FIRST_PASS_REGRESSION~CASE * PREDICTABILITY + (1 | ITEM), \n",
    "                     data=data, REML=FALSE)\n",
    "anova(model_R_c, model_R_d) #  not significant so there is no interaction between CASE and PREDICTABIITY "
   ]
  },
  {
   "cell_type": "code",
   "execution_count": 221,
   "metadata": {
    "collapsed": false
   },
   "outputs": [
    {
     "data": {
      "text/html": [
       "<table>\n",
       "<thead><tr><th></th><th scope=col>Df</th><th scope=col>AIC</th><th scope=col>BIC</th><th scope=col>logLik</th><th scope=col>deviance</th><th scope=col>Chisq</th><th scope=col>Chi Df</th><th scope=col>Pr(&gt;Chisq)</th></tr></thead>\n",
       "<tbody>\n",
       "\t<tr><th scope=row>object</th><td>5        </td><td>104.9812 </td><td>116.9534 </td><td>-47.49058</td><td>94.98115 </td><td>       NA</td><td>NA       </td><td>       NA</td></tr>\n",
       "\t<tr><th scope=row>..1</th><td>6        </td><td>106.4134 </td><td>120.7801 </td><td>-47.20670</td><td>94.41340 </td><td>0.5677537</td><td> 1       </td><td>0.4511529</td></tr>\n",
       "</tbody>\n",
       "</table>\n"
      ],
      "text/latex": [
       "\\begin{tabular}{r|llllllll}\n",
       "  & Df & AIC & BIC & logLik & deviance & Chisq & Chi Df & Pr(>Chisq)\\\\\n",
       "\\hline\n",
       "\tobject & 5         & 104.9812  & 116.9534  & -47.49058 & 94.98115  &        NA & NA        &        NA\\\\\n",
       "\t..1 & 6         & 106.4134  & 120.7801  & -47.20670 & 94.41340  & 0.5677537 &  1        & 0.4511529\\\\\n",
       "\\end{tabular}\n"
      ],
      "text/markdown": [
       "\n",
       "| <!--/--> | Df | AIC | BIC | logLik | deviance | Chisq | Chi Df | Pr(>Chisq) | \n",
       "|---|---|\n",
       "| object | 5         | 104.9812  | 116.9534  | -47.49058 | 94.98115  |        NA | NA        |        NA | \n",
       "| ..1 | 6         | 106.4134  | 120.7801  | -47.20670 | 94.41340  | 0.5677537 |  1        | 0.4511529 | \n",
       "\n",
       "\n"
      ],
      "text/plain": [
       "       Df AIC      BIC      logLik    deviance Chisq     Chi Df Pr(>Chisq)\n",
       "object 5  104.9812 116.9534 -47.49058 94.98115        NA NA            NA \n",
       "..1    6  106.4134 120.7801 -47.20670 94.41340 0.5677537  1     0.4511529 "
      ]
     },
     "metadata": {},
     "output_type": "display_data"
    }
   ],
   "source": [
    "# Checking for interaction between CASE and FREQUENCY\n",
    "model_R_e = lmer (FIRST_PASS_REGRESSION~CASE + FREQUENCY + (1 | ITEM), \n",
    "                     data=data, REML=FALSE)\n",
    "model_R_f = lmer (FIRST_PASS_REGRESSION~CASE * FREQUENCY + (1 | ITEM), \n",
    "                     data=data, REML=FALSE)\n",
    "anova(model_R_e, model_R_f) # no significant interaction between CASE and FREQUENCY "
   ]
  },
  {
   "cell_type": "markdown",
   "metadata": {},
   "source": [
    "\n",
    "### Summary: \n",
    "\n",
    "Eye movements by both participants are influenced by word frequency and contextual \n",
    "predictability, but in inconsistent ways. The neurologically healthy participant \n",
    "demonstrates a word frequency effect in the predicted direction for gaze duration \n",
    "(increase in gaze duration for low frequency words), and a predictability effect in \n",
    "the expected direction for total duration (prolonged total fixation durations on \n",
    "unpredictable words). The participant with aphasia showed a word frequency effect for \n",
    "gaze duration that was in the non-predicted direction (longer gaze duration for high \n",
    "frequency words), but a predictability effect for total fixation duration in the \n",
    "expected direction and in parallel to the neurologically healthy participant. Both\n",
    "participants seemed to be differently affected by word frequency and predictability\n",
    "with respect to first-pass regressions. The neurologically healthy particiapnts was \n",
    "more likely to regress out of high frequency words if they were unpredictable than low\n",
    "frequency words. The participant with aphasia, however, regressed more out of unpredictable \n",
    "low frequency words than unpredictable high frequency words. However, the models did not \n",
    "find that this difference between participants was significant. \n"
   ]
  },
  {
   "cell_type": "code",
   "execution_count": null,
   "metadata": {
    "collapsed": true
   },
   "outputs": [],
   "source": []
  }
 ],
 "metadata": {
  "kernelspec": {
   "display_name": "R",
   "language": "R",
   "name": "ir"
  },
  "language_info": {
   "codemirror_mode": "r",
   "file_extension": ".r",
   "mimetype": "text/x-r-source",
   "name": "R",
   "pygments_lexer": "r",
   "version": "3.3.2"
  }
 },
 "nbformat": 4,
 "nbformat_minor": 2
}
